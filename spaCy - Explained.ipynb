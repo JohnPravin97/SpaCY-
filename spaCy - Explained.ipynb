{
 "cells": [
  {
   "cell_type": "markdown",
   "metadata": {
    "ExecuteTime": {
     "end_time": "2020-06-24T09:45:22.290626Z",
     "start_time": "2020-06-24T09:45:22.285140Z"
    }
   },
   "source": [
    "USEFUL SPACY LINKS \n",
    "\n",
    "https://www.analyticsvidhya.com/blog/2020/03/spacy-tutorial-learn-natural-language-processing/\n",
    "\n",
    "https://towardsdatascience.com/a-short-introduction-to-nlp-in-python-with-spacy-d0aa819af3ad\n",
    "\n",
    "https://stackabuse.com/python-for-nlp-tokenization-stemming-and-lemmatization-with-spacy-library/#:~:text=Stemming,words%20with%20the%20same%20root.&text=It%20might%20be%20surprising%20to,it%20relies%20on%20lemmatization%20only.\n",
    "\n",
    "https://spacy.io/usage/spacy-101#annotations\n",
    "\n",
    "English Grammar\n",
    "\n",
    "https://grammar.yourdictionary.com/grammar-rules-and-tips/basic-english-grammar-rules.html"
   ]
  },
  {
   "cell_type": "markdown",
   "metadata": {},
   "source": [
    "# spaCy"
   ]
  },
  {
   "cell_type": "markdown",
   "metadata": {
    "ExecuteTime": {
     "end_time": "2020-07-15T11:11:14.108373Z",
     "start_time": "2020-07-15T11:11:14.095469Z"
    }
   },
   "source": [
    "## Introduction:"
   ]
  },
  {
   "cell_type": "markdown",
   "metadata": {},
   "source": [
    "1. spaCy is a free, open-source library for advanced Natural Language Processing (NLP) in Python.\n",
    "2. spaCy doesn't have stemming feature.\n",
    "3. Faster than NLTK except in sentence tokenizing.\n",
    "4. spaCy has no N_grams"
   ]
  },
  {
   "cell_type": "code",
   "execution_count": 1,
   "metadata": {
    "ExecuteTime": {
     "end_time": "2020-07-15T11:50:58.067225Z",
     "start_time": "2020-07-15T11:50:45.794061Z"
    },
    "scrolled": true
   },
   "outputs": [],
   "source": [
    "import spacy\n",
    "nlp = spacy.load('en_core_web_sm')"
   ]
  },
  {
   "cell_type": "code",
   "execution_count": 2,
   "metadata": {
    "ExecuteTime": {
     "end_time": "2020-07-15T11:50:58.093334Z",
     "start_time": "2020-07-15T11:50:58.071721Z"
    }
   },
   "outputs": [
    {
     "data": {
      "text/plain": [
       "['tagger', 'parser', 'ner']"
      ]
     },
     "execution_count": 2,
     "metadata": {},
     "output_type": "execute_result"
    }
   ],
   "source": [
    "nlp.pipe_names\n",
    "#nlp.disable_pipes() #this code would disable the pipeline"
   ]
  },
  {
   "cell_type": "code",
   "execution_count": 3,
   "metadata": {
    "ExecuteTime": {
     "end_time": "2020-07-15T11:50:58.145450Z",
     "start_time": "2020-07-15T11:50:58.101214Z"
    }
   },
   "outputs": [],
   "source": [
    "para='this is john pravin, i am working for johnson controls in Mumbai'\n",
    "doc=nlp(para)"
   ]
  },
  {
   "cell_type": "markdown",
   "metadata": {
    "heading_collapsed": true
   },
   "source": [
    "## POS & Tagging"
   ]
  },
  {
   "cell_type": "code",
   "execution_count": 4,
   "metadata": {
    "ExecuteTime": {
     "end_time": "2020-07-15T11:50:58.185168Z",
     "start_time": "2020-07-15T11:50:58.149590Z"
    },
    "hidden": true
   },
   "outputs": [
    {
     "name": "stdout",
     "output_type": "stream",
     "text": [
      "[(this, 'DT'), (is, 'VBZ'), (john, 'NNP'), (pravin, 'NNP'), (,, ','), (i, 'PRP'), (am, 'VBP'), (working, 'VBG'), (for, 'IN'), (johnson, 'NNP'), (controls, 'VBZ'), (in, 'IN'), (Mumbai, 'NNP')]\n"
     ]
    }
   ],
   "source": [
    "using_tag = [(word, word.tag_) for word in doc]\n",
    "print(using_tag)"
   ]
  },
  {
   "cell_type": "code",
   "execution_count": 5,
   "metadata": {
    "ExecuteTime": {
     "end_time": "2020-07-15T11:50:58.203790Z",
     "start_time": "2020-07-15T11:50:58.194182Z"
    },
    "hidden": true
   },
   "outputs": [
    {
     "name": "stdout",
     "output_type": "stream",
     "text": [
      "[(this, 'DET'), (is, 'AUX'), (john, 'PROPN'), (pravin, 'PROPN'), (,, 'PUNCT'), (i, 'PRON'), (am, 'AUX'), (working, 'VERB'), (for, 'ADP'), (johnson, 'PROPN'), (controls, 'VERB'), (in, 'ADP'), (Mumbai, 'PROPN')]\n"
     ]
    }
   ],
   "source": [
    "using_pos=[(word, word.pos_) for word in doc]\n",
    "print(using_pos)"
   ]
  },
  {
   "cell_type": "code",
   "execution_count": 6,
   "metadata": {
    "ExecuteTime": {
     "end_time": "2020-07-15T11:50:58.227733Z",
     "start_time": "2020-07-15T11:50:58.209793Z"
    },
    "hidden": true,
    "scrolled": true
   },
   "outputs": [
    {
     "data": {
      "text/plain": [
       "'noun, proper singular'"
      ]
     },
     "execution_count": 6,
     "metadata": {},
     "output_type": "execute_result"
    }
   ],
   "source": [
    "spacy.explain('NNP') #spacy.explain() #can explain all the functions/terms"
   ]
  },
  {
   "cell_type": "markdown",
   "metadata": {
    "heading_collapsed": true
   },
   "source": [
    "## Removing Punt, Spaces, stop words"
   ]
  },
  {
   "cell_type": "code",
   "execution_count": 7,
   "metadata": {
    "ExecuteTime": {
     "end_time": "2020-07-15T11:50:58.248325Z",
     "start_time": "2020-07-15T11:50:58.233971Z"
    },
    "code_folding": [],
    "hidden": true
   },
   "outputs": [
    {
     "name": "stdout",
     "output_type": "stream",
     "text": [
      "Original Sentences : this is john pravin, i am working for johnson controls in Mumbai\n",
      "\n",
      "After removal of stopwords, punctuation, space:[('john', 'j'), ('pravin', 'p'), ('working', 'w'), ('johnson', 'j'), ('controls', 'c'), ('Mumbai', 'M')]\n"
     ]
    }
   ],
   "source": [
    "#is_stop to remove stop words, is_space to remove spaces, is_punct to remove puntuation\n",
    "remove_punt = [(word.orth_, doc.vocab.strings[word.prefix]) for word in doc if not word.is_stop|word.is_punct|word.is_space] \n",
    "print(f'Original Sentences : {doc}\\n')\n",
    "print(f'After removal of stopwords, punctuation, space:{remove_punt}')"
   ]
  },
  {
   "cell_type": "markdown",
   "metadata": {
    "ExecuteTime": {
     "end_time": "2020-07-15T11:23:56.397693Z",
     "start_time": "2020-07-15T11:23:56.389575Z"
    },
    "hidden": true
   },
   "source": [
    "Note: There are is_stop, is_space, is_punct, is_digit, like_num, like_email, is_alpha, .prefix, .suffix etc"
   ]
  },
  {
   "cell_type": "markdown",
   "metadata": {
    "heading_collapsed": true
   },
   "source": [
    "## Lemmatizer, in spaCy"
   ]
  },
  {
   "cell_type": "code",
   "execution_count": 8,
   "metadata": {
    "ExecuteTime": {
     "end_time": "2020-07-15T11:50:58.281627Z",
     "start_time": "2020-07-15T11:50:58.255942Z"
    },
    "hidden": true
   },
   "outputs": [
    {
     "name": "stdout",
     "output_type": "stream",
     "text": [
      "['eat']\n"
     ]
    }
   ],
   "source": [
    "lem=[word.lemma_ for word in nlp('ate')] \n",
    "print(lem) "
   ]
  },
  {
   "cell_type": "markdown",
   "metadata": {
    "heading_collapsed": true
   },
   "source": [
    "## Entity Recognition"
   ]
  },
  {
   "cell_type": "code",
   "execution_count": 9,
   "metadata": {
    "ExecuteTime": {
     "end_time": "2020-07-15T11:50:58.327033Z",
     "start_time": "2020-07-15T11:50:58.286074Z"
    },
    "hidden": true
   },
   "outputs": [
    {
     "name": "stdout",
     "output_type": "stream",
     "text": [
      "[(Indian, 'NORP', 8, 14), (canada, 'GPE', 31, 37), (next year, 'DATE', 38, 47)]\n"
     ]
    }
   ],
   "source": [
    "doc=nlp('i am an Indian, wanna study in canada next year')\n",
    "entity=[(word, word.label_, word.start_char, word.end_char) for word in doc.ents]\n",
    "print(entity)"
   ]
  },
  {
   "cell_type": "markdown",
   "metadata": {
    "heading_collapsed": true
   },
   "source": [
    "## Matcher (an regex in steroids)"
   ]
  },
  {
   "cell_type": "code",
   "execution_count": 10,
   "metadata": {
    "ExecuteTime": {
     "end_time": "2020-07-15T11:50:58.358055Z",
     "start_time": "2020-07-15T11:50:58.328042Z"
    },
    "hidden": true
   },
   "outputs": [],
   "source": [
    "from spacy.matcher import Matcher\n",
    "matcher = Matcher(nlp.vocab)\n",
    "doc = nlp(\"You lemon book around\")\n",
    "\n",
    "#Define rule \n",
    "#pattern = [{'TEXT': 'lemon'}, {'POS': 'NOUN'}] #refer below images for attributes and uses\n",
    "#pattern= [{'LENGTH': 3}, {'IS_LOWER': True}] #LENGHT - first word and IS_LOWER - second word\n",
    "pattern=[{'IS_LOWER': True}]\n",
    "\n",
    "\n",
    "# Add rule\n",
    "matcher.add('rule_1', None, pattern)"
   ]
  },
  {
   "cell_type": "code",
   "execution_count": 11,
   "metadata": {
    "ExecuteTime": {
     "end_time": "2020-07-15T11:50:58.370396Z",
     "start_time": "2020-07-15T11:50:58.361814Z"
    },
    "hidden": true
   },
   "outputs": [
    {
     "data": {
      "text/plain": [
       "[(7604275899133490726, 1, 2),\n",
       " (7604275899133490726, 2, 3),\n",
       " (7604275899133490726, 3, 4)]"
      ]
     },
     "execution_count": 11,
     "metadata": {},
     "output_type": "execute_result"
    }
   ],
   "source": [
    "matches = matcher(doc)\n",
    "matches"
   ]
  },
  {
   "cell_type": "code",
   "execution_count": 12,
   "metadata": {
    "ExecuteTime": {
     "end_time": "2020-07-15T11:50:58.390783Z",
     "start_time": "2020-07-15T11:50:58.376554Z"
    },
    "hidden": true,
    "scrolled": true
   },
   "outputs": [
    {
     "name": "stdout",
     "output_type": "stream",
     "text": [
      "lemon\n",
      "book\n",
      "around\n"
     ]
    }
   ],
   "source": [
    "for match_id, start, end in matches:\n",
    "    # Get the matched span\n",
    "    matched_span = doc[start:end]\n",
    "    print(matched_span.text)"
   ]
  },
  {
   "cell_type": "markdown",
   "metadata": {
    "ExecuteTime": {
     "end_time": "2020-07-15T11:09:07.592942Z",
     "start_time": "2020-07-15T11:09:07.584173Z"
    },
    "heading_collapsed": true,
    "hidden": true
   },
   "source": [
    "### Attributes and uses of Matcher function"
   ]
  },
  {
   "attachments": {
    "image.png": {
     "image/png": "[encoded data removed]"
    }
   },
   "cell_type": "markdown",
   "metadata": {
    "hidden": true
   },
   "source": [
    "![image.png](attachment:image.png)"
   ]
  },
  {
   "cell_type": "markdown",
   "metadata": {
    "heading_collapsed": true
   },
   "source": [
    "## Noun Chunk"
   ]
  },
  {
   "cell_type": "code",
   "execution_count": 13,
   "metadata": {
    "ExecuteTime": {
     "end_time": "2020-07-15T11:50:58.415809Z",
     "start_time": "2020-07-15T11:50:58.397783Z"
    },
    "hidden": true
   },
   "outputs": [
    {
     "name": "stdout",
     "output_type": "stream",
     "text": [
      "You lemon book around\n",
      "['You']\n"
     ]
    }
   ],
   "source": [
    "noun = [(word.text) for word in doc.noun_chunks]\n",
    "print(doc)\n",
    "print(noun)"
   ]
  },
  {
   "cell_type": "markdown",
   "metadata": {
    "heading_collapsed": true
   },
   "source": [
    "## Sentence Tokenizer"
   ]
  },
  {
   "cell_type": "code",
   "execution_count": 14,
   "metadata": {
    "ExecuteTime": {
     "end_time": "2020-07-15T11:50:58.453378Z",
     "start_time": "2020-07-15T11:50:58.420816Z"
    },
    "hidden": true
   },
   "outputs": [
    {
     "name": "stdout",
     "output_type": "stream",
     "text": [
      "['this is john.', 'I am working in JCI']\n"
     ]
    }
   ],
   "source": [
    "sent= [sent.orth_ for sent in nlp('this is john. I am working in JCI').sents]\n",
    "print(sent)"
   ]
  },
  {
   "cell_type": "markdown",
   "metadata": {
    "ExecuteTime": {
     "end_time": "2020-07-15T11:25:36.699204Z",
     "start_time": "2020-07-15T11:25:36.687586Z"
    }
   },
   "source": [
    "## Similarities"
   ]
  },
  {
   "cell_type": "code",
   "execution_count": 15,
   "metadata": {
    "ExecuteTime": {
     "end_time": "2020-07-15T11:50:58.514293Z",
     "start_time": "2020-07-15T11:50:58.454379Z"
    }
   },
   "outputs": [
    {
     "name": "stdout",
     "output_type": "stream",
     "text": [
      "orange <-> apple 0.3102187\n",
      "orange <-> circle 0.5211937\n",
      "circle <-> fruits 0.21989292\n",
      "True True False\n"
     ]
    },
    {
     "name": "stderr",
     "output_type": "stream",
     "text": [
      "C:\\Users\\jpravijo\\Anaconda3\\lib\\site-packages\\ipykernel_launcher.py:9: UserWarning: [W007] The model you're using has no word vectors loaded, so the result of the Token.similarity method will be based on the tagger, parser and NER, which may not give useful similarity judgements. This may happen if you're using one of the small models, e.g. `en_core_web_sm`, which don't ship with word vectors and only use context-sensitive tensors. You can always add your own word vectors, or use one of the larger models instead if available.\n",
      "  if __name__ == '__main__':\n",
      "C:\\Users\\jpravijo\\Anaconda3\\lib\\site-packages\\ipykernel_launcher.py:10: UserWarning: [W007] The model you're using has no word vectors loaded, so the result of the Token.similarity method will be based on the tagger, parser and NER, which may not give useful similarity judgements. This may happen if you're using one of the small models, e.g. `en_core_web_sm`, which don't ship with word vectors and only use context-sensitive tensors. You can always add your own word vectors, or use one of the larger models instead if available.\n",
      "  # Remove the CWD from sys.path while we load stuff.\n",
      "C:\\Users\\jpravijo\\Anaconda3\\lib\\site-packages\\ipykernel_launcher.py:11: UserWarning: [W007] The model you're using has no word vectors loaded, so the result of the Token.similarity method will be based on the tagger, parser and NER, which may not give useful similarity judgements. This may happen if you're using one of the small models, e.g. `en_core_web_sm`, which don't ship with word vectors and only use context-sensitive tensors. You can always add your own word vectors, or use one of the larger models instead if available.\n",
      "  # This is added back by InteractiveShellApp.init_path()\n"
     ]
    }
   ],
   "source": [
    "doc=nlp('Orange and apple are fruits, circle and triangles are shapes afasegdsvh')\n",
    "orange=doc[0]\n",
    "apple=doc[2]\n",
    "circle=doc[6]\n",
    "fruit=doc[4]\n",
    "\n",
    "\n",
    "\n",
    "print('orange <-> apple', orange.similarity(apple))\n",
    "print('orange <-> circle', orange.similarity(circle))\n",
    "print('circle <-> fruits', circle.similarity(fruit))\n",
    "# pretty common words have vector in spaCy by default. \n",
    "# has_vector shows if the word has vector or not, also, is_oov denotes out of vectors\n",
    "print(apple.has_vector, fruit.has_vector, fruit.is_oov) "
   ]
  }
 ],
 "metadata": {
  "kernelspec": {
   "display_name": "Python 3",
   "language": "python",
   "name": "python3"
  },
  "language_info": {
   "codemirror_mode": {
    "name": "ipython",
    "version": 3
   },
   "file_extension": ".py",
   "mimetype": "text/x-python",
   "name": "python",
   "nbconvert_exporter": "python",
   "pygments_lexer": "ipython3",
   "version": "3.7.6"
  },
  "toc": {
   "base_numbering": 1,
   "nav_menu": {},
   "number_sections": true,
   "sideBar": true,
   "skip_h1_title": false,
   "title_cell": "Table of Contents",
   "title_sidebar": "Contents",
   "toc_cell": false,
   "toc_position": {},
   "toc_section_display": true,
   "toc_window_display": false
  }
 },
 "nbformat": 4,
 "nbformat_minor": 4
}
